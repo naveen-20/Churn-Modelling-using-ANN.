{
 "cells": [
  {
   "cell_type": "markdown",
   "metadata": {},
   "source": [
    "# Churn Modelling using ANN."
   ]
  },
  {
   "cell_type": "markdown",
   "metadata": {},
   "source": [
    "Importing the libraries."
   ]
  },
  {
   "cell_type": "code",
   "execution_count": 2,
   "metadata": {},
   "outputs": [],
   "source": [
    "import numpy as np\n",
    "import pandas as pd\n",
    "import matplotlib.pyplot as plt"
   ]
  },
  {
   "cell_type": "markdown",
   "metadata": {},
   "source": [
    "Part 1 - Data Preprocessing"
   ]
  },
  {
   "cell_type": "markdown",
   "metadata": {},
   "source": [
    "Importing dataset."
   ]
  },
  {
   "cell_type": "code",
   "execution_count": 4,
   "metadata": {},
   "outputs": [],
   "source": [
    "dataset = pd.read_csv(r'D:\\Churn-Modelling.csv')"
   ]
  },
  {
   "cell_type": "code",
   "execution_count": 6,
   "metadata": {},
   "outputs": [
    {
     "data": {
      "text/html": [
       "<div>\n",
       "<style scoped>\n",
       "    .dataframe tbody tr th:only-of-type {\n",
       "        vertical-align: middle;\n",
       "    }\n",
       "\n",
       "    .dataframe tbody tr th {\n",
       "        vertical-align: top;\n",
       "    }\n",
       "\n",
       "    .dataframe thead th {\n",
       "        text-align: right;\n",
       "    }\n",
       "</style>\n",
       "<table border=\"1\" class=\"dataframe\">\n",
       "  <thead>\n",
       "    <tr style=\"text-align: right;\">\n",
       "      <th></th>\n",
       "      <th>RowNumber</th>\n",
       "      <th>CustomerId</th>\n",
       "      <th>Surname</th>\n",
       "      <th>CreditScore</th>\n",
       "      <th>Geography</th>\n",
       "      <th>Gender</th>\n",
       "      <th>Age</th>\n",
       "      <th>Tenure</th>\n",
       "      <th>Balance</th>\n",
       "      <th>NumOfProducts</th>\n",
       "      <th>HasCrCard</th>\n",
       "      <th>IsActiveMember</th>\n",
       "      <th>EstimatedSalary</th>\n",
       "      <th>Exited</th>\n",
       "    </tr>\n",
       "  </thead>\n",
       "  <tbody>\n",
       "    <tr>\n",
       "      <td>0</td>\n",
       "      <td>1</td>\n",
       "      <td>15634602</td>\n",
       "      <td>Hargrave</td>\n",
       "      <td>619</td>\n",
       "      <td>France</td>\n",
       "      <td>Female</td>\n",
       "      <td>42</td>\n",
       "      <td>2</td>\n",
       "      <td>0.00</td>\n",
       "      <td>1</td>\n",
       "      <td>1</td>\n",
       "      <td>1</td>\n",
       "      <td>101348.88</td>\n",
       "      <td>1</td>\n",
       "    </tr>\n",
       "    <tr>\n",
       "      <td>1</td>\n",
       "      <td>2</td>\n",
       "      <td>15647311</td>\n",
       "      <td>Hill</td>\n",
       "      <td>608</td>\n",
       "      <td>Spain</td>\n",
       "      <td>Female</td>\n",
       "      <td>41</td>\n",
       "      <td>1</td>\n",
       "      <td>83807.86</td>\n",
       "      <td>1</td>\n",
       "      <td>0</td>\n",
       "      <td>1</td>\n",
       "      <td>112542.58</td>\n",
       "      <td>0</td>\n",
       "    </tr>\n",
       "    <tr>\n",
       "      <td>2</td>\n",
       "      <td>3</td>\n",
       "      <td>15619304</td>\n",
       "      <td>Onio</td>\n",
       "      <td>502</td>\n",
       "      <td>France</td>\n",
       "      <td>Female</td>\n",
       "      <td>42</td>\n",
       "      <td>8</td>\n",
       "      <td>159660.80</td>\n",
       "      <td>3</td>\n",
       "      <td>1</td>\n",
       "      <td>0</td>\n",
       "      <td>113931.57</td>\n",
       "      <td>1</td>\n",
       "    </tr>\n",
       "    <tr>\n",
       "      <td>3</td>\n",
       "      <td>4</td>\n",
       "      <td>15701354</td>\n",
       "      <td>Boni</td>\n",
       "      <td>699</td>\n",
       "      <td>France</td>\n",
       "      <td>Female</td>\n",
       "      <td>39</td>\n",
       "      <td>1</td>\n",
       "      <td>0.00</td>\n",
       "      <td>2</td>\n",
       "      <td>0</td>\n",
       "      <td>0</td>\n",
       "      <td>93826.63</td>\n",
       "      <td>0</td>\n",
       "    </tr>\n",
       "    <tr>\n",
       "      <td>4</td>\n",
       "      <td>5</td>\n",
       "      <td>15737888</td>\n",
       "      <td>Mitchell</td>\n",
       "      <td>850</td>\n",
       "      <td>Spain</td>\n",
       "      <td>Female</td>\n",
       "      <td>43</td>\n",
       "      <td>2</td>\n",
       "      <td>125510.82</td>\n",
       "      <td>1</td>\n",
       "      <td>1</td>\n",
       "      <td>1</td>\n",
       "      <td>79084.10</td>\n",
       "      <td>0</td>\n",
       "    </tr>\n",
       "  </tbody>\n",
       "</table>\n",
       "</div>"
      ],
      "text/plain": [
       "   RowNumber  CustomerId   Surname  CreditScore Geography  Gender  Age  \\\n",
       "0          1    15634602  Hargrave          619    France  Female   42   \n",
       "1          2    15647311      Hill          608     Spain  Female   41   \n",
       "2          3    15619304      Onio          502    France  Female   42   \n",
       "3          4    15701354      Boni          699    France  Female   39   \n",
       "4          5    15737888  Mitchell          850     Spain  Female   43   \n",
       "\n",
       "   Tenure    Balance  NumOfProducts  HasCrCard  IsActiveMember  \\\n",
       "0       2       0.00              1          1               1   \n",
       "1       1   83807.86              1          0               1   \n",
       "2       8  159660.80              3          1               0   \n",
       "3       1       0.00              2          0               0   \n",
       "4       2  125510.82              1          1               1   \n",
       "\n",
       "   EstimatedSalary  Exited  \n",
       "0        101348.88       1  \n",
       "1        112542.58       0  \n",
       "2        113931.57       1  \n",
       "3         93826.63       0  \n",
       "4         79084.10       0  "
      ]
     },
     "execution_count": 6,
     "metadata": {},
     "output_type": "execute_result"
    }
   ],
   "source": [
    "dataset.head()"
   ]
  },
  {
   "cell_type": "markdown",
   "metadata": {},
   "source": [
    "Getting information about the dataset."
   ]
  },
  {
   "cell_type": "code",
   "execution_count": 27,
   "metadata": {},
   "outputs": [
    {
     "data": {
      "text/plain": [
       "RowNumber          0\n",
       "CustomerId         0\n",
       "Surname            0\n",
       "CreditScore        0\n",
       "Geography          0\n",
       "Gender             0\n",
       "Age                0\n",
       "Tenure             0\n",
       "Balance            0\n",
       "NumOfProducts      0\n",
       "HasCrCard          0\n",
       "IsActiveMember     0\n",
       "EstimatedSalary    0\n",
       "Exited             0\n",
       "dtype: int64"
      ]
     },
     "execution_count": 27,
     "metadata": {},
     "output_type": "execute_result"
    }
   ],
   "source": [
    "dataset.isnull().sum()"
   ]
  },
  {
   "cell_type": "code",
   "execution_count": null,
   "metadata": {},
   "outputs": [],
   "source": [
    "No null values are present."
   ]
  },
  {
   "cell_type": "code",
   "execution_count": 7,
   "metadata": {},
   "outputs": [
    {
     "data": {
      "text/plain": [
       "<bound method NDFrame.describe of       RowNumber  CustomerId    Surname  CreditScore Geography  Gender  Age  \\\n",
       "0             1    15634602   Hargrave          619    France  Female   42   \n",
       "1             2    15647311       Hill          608     Spain  Female   41   \n",
       "2             3    15619304       Onio          502    France  Female   42   \n",
       "3             4    15701354       Boni          699    France  Female   39   \n",
       "4             5    15737888   Mitchell          850     Spain  Female   43   \n",
       "...         ...         ...        ...          ...       ...     ...  ...   \n",
       "8039       8040    15773520       Begg          672    France  Female   43   \n",
       "8040       8041    15627439  Pickering          624     Spain  Female   36   \n",
       "8041       8042    15701439    Fanucci          698     Spain  Female   50   \n",
       "8042       8043    15785352      Chang          606    France    Male   37   \n",
       "8043       8044    15616525  Sopuluchi          720     Spain    Male   31   \n",
       "\n",
       "      Tenure    Balance  NumOfProducts  HasCrCard  IsActiveMember  \\\n",
       "0          2       0.00              1          1               1   \n",
       "1          1   83807.86              1          0               1   \n",
       "2          8  159660.80              3          1               0   \n",
       "3          1       0.00              2          0               0   \n",
       "4          2  125510.82              1          1               1   \n",
       "...      ...        ...            ...        ...             ...   \n",
       "8039       4   92599.55              2          1               1   \n",
       "8040      10       0.00              2          0               1   \n",
       "8041       1       0.00              4          1               0   \n",
       "8042       6   82373.94              1          0               0   \n",
       "8043       4  141356.47              1          0               0   \n",
       "\n",
       "      EstimatedSalary  Exited  \n",
       "0           101348.88       1  \n",
       "1           112542.58       0  \n",
       "2           113931.57       1  \n",
       "3            93826.63       0  \n",
       "4            79084.10       0  \n",
       "...               ...     ...  \n",
       "8039        167336.78       0  \n",
       "8040        186180.42       0  \n",
       "8041         88566.90       1  \n",
       "8042        172526.90       1  \n",
       "8043        137985.69       0  \n",
       "\n",
       "[8044 rows x 14 columns]>"
      ]
     },
     "execution_count": 7,
     "metadata": {},
     "output_type": "execute_result"
    }
   ],
   "source": [
    "dataset.describe"
   ]
  },
  {
   "cell_type": "markdown",
   "metadata": {},
   "source": [
    "The dataset contains 8044 rows and 14 features of which the last one Exited is aur dependent feature rest are independent.\n",
    "Also, the first three freatures (RowNumber,CustomerId and Surname) are not so much of important. They are just the unique values and won't play a very much factor so we will not use them. "
   ]
  },
  {
   "cell_type": "code",
   "execution_count": 8,
   "metadata": {},
   "outputs": [],
   "source": [
    "X = dataset.iloc[:,3:13]\n",
    "y = dataset.iloc[:,13]"
   ]
  },
  {
   "cell_type": "code",
   "execution_count": 9,
   "metadata": {},
   "outputs": [
    {
     "data": {
      "text/html": [
       "<div>\n",
       "<style scoped>\n",
       "    .dataframe tbody tr th:only-of-type {\n",
       "        vertical-align: middle;\n",
       "    }\n",
       "\n",
       "    .dataframe tbody tr th {\n",
       "        vertical-align: top;\n",
       "    }\n",
       "\n",
       "    .dataframe thead th {\n",
       "        text-align: right;\n",
       "    }\n",
       "</style>\n",
       "<table border=\"1\" class=\"dataframe\">\n",
       "  <thead>\n",
       "    <tr style=\"text-align: right;\">\n",
       "      <th></th>\n",
       "      <th>CreditScore</th>\n",
       "      <th>Geography</th>\n",
       "      <th>Gender</th>\n",
       "      <th>Age</th>\n",
       "      <th>Tenure</th>\n",
       "      <th>Balance</th>\n",
       "      <th>NumOfProducts</th>\n",
       "      <th>HasCrCard</th>\n",
       "      <th>IsActiveMember</th>\n",
       "      <th>EstimatedSalary</th>\n",
       "    </tr>\n",
       "  </thead>\n",
       "  <tbody>\n",
       "    <tr>\n",
       "      <td>0</td>\n",
       "      <td>619</td>\n",
       "      <td>France</td>\n",
       "      <td>Female</td>\n",
       "      <td>42</td>\n",
       "      <td>2</td>\n",
       "      <td>0.00</td>\n",
       "      <td>1</td>\n",
       "      <td>1</td>\n",
       "      <td>1</td>\n",
       "      <td>101348.88</td>\n",
       "    </tr>\n",
       "    <tr>\n",
       "      <td>1</td>\n",
       "      <td>608</td>\n",
       "      <td>Spain</td>\n",
       "      <td>Female</td>\n",
       "      <td>41</td>\n",
       "      <td>1</td>\n",
       "      <td>83807.86</td>\n",
       "      <td>1</td>\n",
       "      <td>0</td>\n",
       "      <td>1</td>\n",
       "      <td>112542.58</td>\n",
       "    </tr>\n",
       "    <tr>\n",
       "      <td>2</td>\n",
       "      <td>502</td>\n",
       "      <td>France</td>\n",
       "      <td>Female</td>\n",
       "      <td>42</td>\n",
       "      <td>8</td>\n",
       "      <td>159660.80</td>\n",
       "      <td>3</td>\n",
       "      <td>1</td>\n",
       "      <td>0</td>\n",
       "      <td>113931.57</td>\n",
       "    </tr>\n",
       "    <tr>\n",
       "      <td>3</td>\n",
       "      <td>699</td>\n",
       "      <td>France</td>\n",
       "      <td>Female</td>\n",
       "      <td>39</td>\n",
       "      <td>1</td>\n",
       "      <td>0.00</td>\n",
       "      <td>2</td>\n",
       "      <td>0</td>\n",
       "      <td>0</td>\n",
       "      <td>93826.63</td>\n",
       "    </tr>\n",
       "    <tr>\n",
       "      <td>4</td>\n",
       "      <td>850</td>\n",
       "      <td>Spain</td>\n",
       "      <td>Female</td>\n",
       "      <td>43</td>\n",
       "      <td>2</td>\n",
       "      <td>125510.82</td>\n",
       "      <td>1</td>\n",
       "      <td>1</td>\n",
       "      <td>1</td>\n",
       "      <td>79084.10</td>\n",
       "    </tr>\n",
       "  </tbody>\n",
       "</table>\n",
       "</div>"
      ],
      "text/plain": [
       "   CreditScore Geography  Gender  Age  Tenure    Balance  NumOfProducts  \\\n",
       "0          619    France  Female   42       2       0.00              1   \n",
       "1          608     Spain  Female   41       1   83807.86              1   \n",
       "2          502    France  Female   42       8  159660.80              3   \n",
       "3          699    France  Female   39       1       0.00              2   \n",
       "4          850     Spain  Female   43       2  125510.82              1   \n",
       "\n",
       "   HasCrCard  IsActiveMember  EstimatedSalary  \n",
       "0          1               1        101348.88  \n",
       "1          0               1        112542.58  \n",
       "2          1               0        113931.57  \n",
       "3          0               0         93826.63  \n",
       "4          1               1         79084.10  "
      ]
     },
     "execution_count": 9,
     "metadata": {},
     "output_type": "execute_result"
    }
   ],
   "source": [
    "X.head(5)"
   ]
  },
  {
   "cell_type": "code",
   "execution_count": 10,
   "metadata": {},
   "outputs": [
    {
     "data": {
      "text/plain": [
       "0    1\n",
       "1    0\n",
       "2    1\n",
       "3    0\n",
       "4    0\n",
       "Name: Exited, dtype: int64"
      ]
     },
     "execution_count": 10,
     "metadata": {},
     "output_type": "execute_result"
    }
   ],
   "source": [
    "y.head(5)"
   ]
  },
  {
   "cell_type": "markdown",
   "metadata": {},
   "source": [
    "In our dataset both Geography and Gender feature are categorical. So, we need to convert this into dummy variables."
   ]
  },
  {
   "cell_type": "code",
   "execution_count": 17,
   "metadata": {},
   "outputs": [],
   "source": [
    "Geography = pd.get_dummies(X['Geography'],drop_first=True)\n",
    "Gender = pd.get_dummies(X['Gender'],drop_first=True)"
   ]
  },
  {
   "cell_type": "markdown",
   "metadata": {},
   "source": [
    "Concatenate the Data Frame."
   ]
  },
  {
   "cell_type": "code",
   "execution_count": 22,
   "metadata": {},
   "outputs": [],
   "source": [
    "X = pd.concat([X,Geography,Gender],axis=1)"
   ]
  },
  {
   "cell_type": "markdown",
   "metadata": {},
   "source": [
    "Dropping unnecessary columns. "
   ]
  },
  {
   "cell_type": "code",
   "execution_count": 24,
   "metadata": {},
   "outputs": [],
   "source": [
    "X = X.drop(['Geography','Gender'],axis=1)"
   ]
  },
  {
   "cell_type": "code",
   "execution_count": 28,
   "metadata": {},
   "outputs": [
    {
     "data": {
      "text/html": [
       "<div>\n",
       "<style scoped>\n",
       "    .dataframe tbody tr th:only-of-type {\n",
       "        vertical-align: middle;\n",
       "    }\n",
       "\n",
       "    .dataframe tbody tr th {\n",
       "        vertical-align: top;\n",
       "    }\n",
       "\n",
       "    .dataframe thead th {\n",
       "        text-align: right;\n",
       "    }\n",
       "</style>\n",
       "<table border=\"1\" class=\"dataframe\">\n",
       "  <thead>\n",
       "    <tr style=\"text-align: right;\">\n",
       "      <th></th>\n",
       "      <th>CreditScore</th>\n",
       "      <th>Age</th>\n",
       "      <th>Tenure</th>\n",
       "      <th>Balance</th>\n",
       "      <th>NumOfProducts</th>\n",
       "      <th>HasCrCard</th>\n",
       "      <th>IsActiveMember</th>\n",
       "      <th>EstimatedSalary</th>\n",
       "      <th>Germany</th>\n",
       "      <th>Spain</th>\n",
       "      <th>Male</th>\n",
       "    </tr>\n",
       "  </thead>\n",
       "  <tbody>\n",
       "    <tr>\n",
       "      <td>0</td>\n",
       "      <td>619</td>\n",
       "      <td>42</td>\n",
       "      <td>2</td>\n",
       "      <td>0.00</td>\n",
       "      <td>1</td>\n",
       "      <td>1</td>\n",
       "      <td>1</td>\n",
       "      <td>101348.88</td>\n",
       "      <td>0</td>\n",
       "      <td>0</td>\n",
       "      <td>0</td>\n",
       "    </tr>\n",
       "    <tr>\n",
       "      <td>1</td>\n",
       "      <td>608</td>\n",
       "      <td>41</td>\n",
       "      <td>1</td>\n",
       "      <td>83807.86</td>\n",
       "      <td>1</td>\n",
       "      <td>0</td>\n",
       "      <td>1</td>\n",
       "      <td>112542.58</td>\n",
       "      <td>0</td>\n",
       "      <td>1</td>\n",
       "      <td>0</td>\n",
       "    </tr>\n",
       "    <tr>\n",
       "      <td>2</td>\n",
       "      <td>502</td>\n",
       "      <td>42</td>\n",
       "      <td>8</td>\n",
       "      <td>159660.80</td>\n",
       "      <td>3</td>\n",
       "      <td>1</td>\n",
       "      <td>0</td>\n",
       "      <td>113931.57</td>\n",
       "      <td>0</td>\n",
       "      <td>0</td>\n",
       "      <td>0</td>\n",
       "    </tr>\n",
       "    <tr>\n",
       "      <td>3</td>\n",
       "      <td>699</td>\n",
       "      <td>39</td>\n",
       "      <td>1</td>\n",
       "      <td>0.00</td>\n",
       "      <td>2</td>\n",
       "      <td>0</td>\n",
       "      <td>0</td>\n",
       "      <td>93826.63</td>\n",
       "      <td>0</td>\n",
       "      <td>0</td>\n",
       "      <td>0</td>\n",
       "    </tr>\n",
       "    <tr>\n",
       "      <td>4</td>\n",
       "      <td>850</td>\n",
       "      <td>43</td>\n",
       "      <td>2</td>\n",
       "      <td>125510.82</td>\n",
       "      <td>1</td>\n",
       "      <td>1</td>\n",
       "      <td>1</td>\n",
       "      <td>79084.10</td>\n",
       "      <td>0</td>\n",
       "      <td>1</td>\n",
       "      <td>0</td>\n",
       "    </tr>\n",
       "  </tbody>\n",
       "</table>\n",
       "</div>"
      ],
      "text/plain": [
       "   CreditScore  Age  Tenure    Balance  NumOfProducts  HasCrCard  \\\n",
       "0          619   42       2       0.00              1          1   \n",
       "1          608   41       1   83807.86              1          0   \n",
       "2          502   42       8  159660.80              3          1   \n",
       "3          699   39       1       0.00              2          0   \n",
       "4          850   43       2  125510.82              1          1   \n",
       "\n",
       "   IsActiveMember  EstimatedSalary  Germany  Spain  Male  \n",
       "0               1        101348.88        0      0     0  \n",
       "1               1        112542.58        0      1     0  \n",
       "2               0        113931.57        0      0     0  \n",
       "3               0         93826.63        0      0     0  \n",
       "4               1         79084.10        0      1     0  "
      ]
     },
     "execution_count": 28,
     "metadata": {},
     "output_type": "execute_result"
    }
   ],
   "source": [
    "X.head(5)"
   ]
  },
  {
   "cell_type": "markdown",
   "metadata": {},
   "source": [
    "Splitting dataset into training and test set."
   ]
  },
  {
   "cell_type": "code",
   "execution_count": 30,
   "metadata": {},
   "outputs": [],
   "source": [
    "from sklearn.model_selection import train_test_split\n",
    "X_train, X_test, y_train, y_test = train_test_split(X,y,test_size = 0.2, random_state=0)"
   ]
  },
  {
   "cell_type": "markdown",
   "metadata": {},
   "source": [
    "Now, we will perform the Feature Scaling."
   ]
  },
  {
   "cell_type": "code",
   "execution_count": 31,
   "metadata": {},
   "outputs": [],
   "source": [
    "from sklearn.preprocessing import StandardScaler\n",
    "sc = StandardScaler()"
   ]
  },
  {
   "cell_type": "code",
   "execution_count": 32,
   "metadata": {},
   "outputs": [],
   "source": [
    "X_train = sc.fit_transform(X_train)\n",
    "X_test = sc.transform(X_test)"
   ]
  },
  {
   "cell_type": "code",
   "execution_count": 34,
   "metadata": {},
   "outputs": [
    {
     "data": {
      "text/plain": [
       "array([[ 1.03655627, -1.62593759, -0.00769078, ..., -0.57429976,\n",
       "        -0.57884561,  0.91947043],\n",
       "       [-0.04951222, -0.8561108 , -1.39203066, ..., -0.57429976,\n",
       "        -0.57884561,  0.91947043],\n",
       "       [-0.26672591,  0.58731444, -0.69986072, ..., -0.57429976,\n",
       "        -0.57884561, -1.08758256],\n",
       "       ...,\n",
       "       [-1.54932108,  1.64582627, -1.39203066, ..., -0.57429976,\n",
       "        -0.57884561,  0.91947043],\n",
       "       [ 1.69854087, -0.75988245, -1.39203066, ..., -0.57429976,\n",
       "        -0.57884561,  0.91947043],\n",
       "       [-0.27706942,  0.87599948, -1.39203066, ...,  1.74125095,\n",
       "        -0.57884561, -1.08758256]])"
      ]
     },
     "execution_count": 34,
     "metadata": {},
     "output_type": "execute_result"
    }
   ],
   "source": [
    "X_train"
   ]
  },
  {
   "cell_type": "code",
   "execution_count": 35,
   "metadata": {},
   "outputs": [
    {
     "data": {
      "text/plain": [
       "array([[-0.30809995,  0.49108609,  1.03056414, ..., -0.57429976,\n",
       "         1.72757637,  0.91947043],\n",
       "       [ 0.66418993, -1.33725254, -0.35377575, ..., -0.57429976,\n",
       "        -0.57884561, -1.08758256],\n",
       "       [ 1.43995314, -0.75988245, -0.35377575, ..., -0.57429976,\n",
       "        -0.57884561,  0.91947043],\n",
       "       ...,\n",
       "       [ 0.11598393, -1.04856749,  0.68447917, ..., -0.57429976,\n",
       "         1.72757637, -1.08758256],\n",
       "       [ 0.69522046,  0.97222783, -1.39203066, ..., -0.57429976,\n",
       "         1.72757637, -1.08758256],\n",
       "       [-0.49428312, -0.95233914, -0.00769078, ..., -0.57429976,\n",
       "         1.72757637,  0.91947043]])"
      ]
     },
     "execution_count": 35,
     "metadata": {},
     "output_type": "execute_result"
    }
   ],
   "source": [
    "X_test"
   ]
  },
  {
   "cell_type": "markdown",
   "metadata": {},
   "source": [
    "Part 2 - Building our ANN model."
   ]
  },
  {
   "cell_type": "markdown",
   "metadata": {},
   "source": [
    "Importing Keras libraries and packages."
   ]
  },
  {
   "cell_type": "code",
   "execution_count": 36,
   "metadata": {},
   "outputs": [],
   "source": [
    "import keras\n",
    "from keras.models import Sequential\n",
    "from keras.layers import Dense\n",
    "from keras.layers import PReLU,LeakyReLU,ELU\n",
    "from keras.layers import Dropout"
   ]
  },
  {
   "cell_type": "markdown",
   "metadata": {},
   "source": [
    "Initialising ANN."
   ]
  },
  {
   "cell_type": "code",
   "execution_count": 37,
   "metadata": {},
   "outputs": [],
   "source": [
    "classifier = Sequential()"
   ]
  },
  {
   "cell_type": "markdown",
   "metadata": {},
   "source": [
    "Adding the input layer and first hidden layer."
   ]
  },
  {
   "cell_type": "code",
   "execution_count": 38,
   "metadata": {},
   "outputs": [],
   "source": [
    "classifier.add(Dense(units=6,kernel_initializer='he_uniform',activation='relu',input_dim = 11))"
   ]
  },
  {
   "cell_type": "markdown",
   "metadata": {},
   "source": [
    "Adding the second hidden layer."
   ]
  },
  {
   "cell_type": "code",
   "execution_count": 39,
   "metadata": {},
   "outputs": [],
   "source": [
    "classifier.add(Dense(units=6,kernel_initializer='he_uniform',activation='relu'))"
   ]
  },
  {
   "cell_type": "markdown",
   "metadata": {},
   "source": [
    "Adding the output layer."
   ]
  },
  {
   "cell_type": "code",
   "execution_count": 40,
   "metadata": {},
   "outputs": [],
   "source": [
    "classifier.add(Dense(units=1,kernel_initializer = 'glorot_uniform',activation='sigmoid'))"
   ]
  },
  {
   "cell_type": "markdown",
   "metadata": {},
   "source": [
    "Compiling the ANN."
   ]
  },
  {
   "cell_type": "code",
   "execution_count": 41,
   "metadata": {},
   "outputs": [],
   "source": [
    "classifier.compile(optimizer='adam', loss='binary_crossentropy', metrics=['accuracy'])"
   ]
  },
  {
   "cell_type": "markdown",
   "metadata": {},
   "source": [
    "Fitting the model to the training dataset."
   ]
  },
  {
   "cell_type": "code",
   "execution_count": 42,
   "metadata": {},
   "outputs": [
    {
     "name": "stdout",
     "output_type": "stream",
     "text": [
      "Train on 4311 samples, validate on 2124 samples\n",
      "Epoch 1/100\n",
      "4311/4311 [==============================] - 2s 487us/step - loss: 0.5406 - accuracy: 0.7908 - val_loss: 0.5102 - val_accuracy: 0.7905\n",
      "Epoch 2/100\n",
      "4311/4311 [==============================] - 1s 188us/step - loss: 0.4855 - accuracy: 0.7908 - val_loss: 0.4779 - val_accuracy: 0.7905\n",
      "Epoch 3/100\n",
      "4311/4311 [==============================] - 1s 218us/step - loss: 0.4587 - accuracy: 0.7915 - val_loss: 0.4598 - val_accuracy: 0.7910\n",
      "Epoch 4/100\n",
      "4311/4311 [==============================] - 1s 203us/step - loss: 0.4409 - accuracy: 0.7956 - val_loss: 0.4455 - val_accuracy: 0.7994\n",
      "Epoch 5/100\n",
      "4311/4311 [==============================] - 1s 211us/step - loss: 0.4287 - accuracy: 0.8072 - val_loss: 0.4365 - val_accuracy: 0.8098\n",
      "Epoch 6/100\n",
      "4311/4311 [==============================] - 1s 209us/step - loss: 0.4201 - accuracy: 0.8154 - val_loss: 0.4274 - val_accuracy: 0.8211\n",
      "Epoch 7/100\n",
      "4311/4311 [==============================] - 1s 195us/step - loss: 0.4122 - accuracy: 0.8188 - val_loss: 0.4199 - val_accuracy: 0.8225\n",
      "Epoch 8/100\n",
      "4311/4311 [==============================] - 1s 192us/step - loss: 0.4054 - accuracy: 0.8246 - val_loss: 0.4135 - val_accuracy: 0.8258\n",
      "Epoch 9/100\n",
      "4311/4311 [==============================] - 1s 200us/step - loss: 0.3990 - accuracy: 0.8251 - val_loss: 0.4068 - val_accuracy: 0.8277\n",
      "Epoch 10/100\n",
      "4311/4311 [==============================] - 1s 192us/step - loss: 0.3937 - accuracy: 0.8281 - val_loss: 0.4029 - val_accuracy: 0.8282\n",
      "Epoch 11/100\n",
      "4311/4311 [==============================] - 1s 185us/step - loss: 0.3895 - accuracy: 0.8272 - val_loss: 0.3991 - val_accuracy: 0.8286\n",
      "Epoch 12/100\n",
      "4311/4311 [==============================] - 1s 187us/step - loss: 0.3861 - accuracy: 0.8288 - val_loss: 0.3961 - val_accuracy: 0.8272\n",
      "Epoch 13/100\n",
      "4311/4311 [==============================] - 1s 191us/step - loss: 0.3824 - accuracy: 0.8332 - val_loss: 0.3937 - val_accuracy: 0.8286\n",
      "Epoch 14/100\n",
      "4311/4311 [==============================] - 1s 188us/step - loss: 0.3796 - accuracy: 0.8321 - val_loss: 0.3915 - val_accuracy: 0.8267\n",
      "Epoch 15/100\n",
      "4311/4311 [==============================] - 1s 196us/step - loss: 0.3767 - accuracy: 0.8369 - val_loss: 0.3895 - val_accuracy: 0.8338\n",
      "Epoch 16/100\n",
      "4311/4311 [==============================] - 1s 205us/step - loss: 0.3737 - accuracy: 0.8418 - val_loss: 0.3871 - val_accuracy: 0.8343\n",
      "Epoch 17/100\n",
      "4311/4311 [==============================] - 1s 202us/step - loss: 0.3720 - accuracy: 0.8425 - val_loss: 0.3854 - val_accuracy: 0.8385\n",
      "Epoch 18/100\n",
      "4311/4311 [==============================] - 1s 193us/step - loss: 0.3697 - accuracy: 0.8444 - val_loss: 0.3846 - val_accuracy: 0.8371\n",
      "Epoch 19/100\n",
      "4311/4311 [==============================] - 1s 187us/step - loss: 0.3676 - accuracy: 0.8481 - val_loss: 0.3827 - val_accuracy: 0.8366\n",
      "Epoch 20/100\n",
      "4311/4311 [==============================] - 1s 190us/step - loss: 0.3657 - accuracy: 0.8492 - val_loss: 0.3800 - val_accuracy: 0.8399\n",
      "Epoch 21/100\n",
      "4311/4311 [==============================] - 1s 190us/step - loss: 0.3635 - accuracy: 0.8525 - val_loss: 0.3787 - val_accuracy: 0.8423\n",
      "Epoch 22/100\n",
      "4311/4311 [==============================] - 1s 187us/step - loss: 0.3619 - accuracy: 0.8548 - val_loss: 0.3770 - val_accuracy: 0.8423\n",
      "Epoch 23/100\n",
      "4311/4311 [==============================] - 1s 216us/step - loss: 0.3597 - accuracy: 0.8539 - val_loss: 0.3747 - val_accuracy: 0.8446\n",
      "Epoch 24/100\n",
      "4311/4311 [==============================] - 1s 197us/step - loss: 0.3580 - accuracy: 0.8541 - val_loss: 0.3729 - val_accuracy: 0.8456\n",
      "Epoch 25/100\n",
      "4311/4311 [==============================] - 1s 188us/step - loss: 0.3566 - accuracy: 0.8564 - val_loss: 0.3710 - val_accuracy: 0.8465\n",
      "Epoch 26/100\n",
      "4311/4311 [==============================] - 1s 194us/step - loss: 0.3544 - accuracy: 0.8573 - val_loss: 0.3697 - val_accuracy: 0.8489\n",
      "Epoch 27/100\n",
      "4311/4311 [==============================] - 1s 194us/step - loss: 0.3531 - accuracy: 0.8580 - val_loss: 0.3673 - val_accuracy: 0.8526\n",
      "Epoch 28/100\n",
      "4311/4311 [==============================] - 1s 203us/step - loss: 0.3517 - accuracy: 0.8573 - val_loss: 0.3662 - val_accuracy: 0.8512\n",
      "Epoch 29/100\n",
      "4311/4311 [==============================] - 1s 224us/step - loss: 0.3494 - accuracy: 0.8576 - val_loss: 0.3653 - val_accuracy: 0.8517\n",
      "Epoch 30/100\n",
      "4311/4311 [==============================] - 1s 226us/step - loss: 0.3473 - accuracy: 0.8608 - val_loss: 0.3602 - val_accuracy: 0.8545\n",
      "Epoch 31/100\n",
      "4311/4311 [==============================] - 1s 195us/step - loss: 0.3461 - accuracy: 0.8615 - val_loss: 0.3594 - val_accuracy: 0.8559\n",
      "Epoch 32/100\n",
      "4311/4311 [==============================] - 1s 219us/step - loss: 0.3445 - accuracy: 0.8599 - val_loss: 0.3583 - val_accuracy: 0.8555\n",
      "Epoch 33/100\n",
      "4311/4311 [==============================] - 1s 223us/step - loss: 0.3440 - accuracy: 0.8599 - val_loss: 0.3578 - val_accuracy: 0.8578\n",
      "Epoch 34/100\n",
      "4311/4311 [==============================] - 1s 213us/step - loss: 0.3431 - accuracy: 0.8613 - val_loss: 0.3561 - val_accuracy: 0.8573\n",
      "Epoch 35/100\n",
      "4311/4311 [==============================] - 1s 195us/step - loss: 0.3419 - accuracy: 0.8617 - val_loss: 0.3563 - val_accuracy: 0.8569\n",
      "Epoch 36/100\n",
      "4311/4311 [==============================] - 1s 211us/step - loss: 0.3407 - accuracy: 0.8604 - val_loss: 0.3563 - val_accuracy: 0.8578\n",
      "Epoch 37/100\n",
      "4311/4311 [==============================] - 1s 201us/step - loss: 0.3406 - accuracy: 0.8615 - val_loss: 0.3562 - val_accuracy: 0.8550\n",
      "Epoch 38/100\n",
      "4311/4311 [==============================] - 1s 204us/step - loss: 0.3401 - accuracy: 0.8622 - val_loss: 0.3574 - val_accuracy: 0.8526\n",
      "Epoch 39/100\n",
      "4311/4311 [==============================] - 1s 207us/step - loss: 0.3393 - accuracy: 0.8638 - val_loss: 0.3561 - val_accuracy: 0.8564\n",
      "Epoch 40/100\n",
      "4311/4311 [==============================] - 1s 227us/step - loss: 0.3391 - accuracy: 0.8641 - val_loss: 0.3549 - val_accuracy: 0.8559\n",
      "Epoch 41/100\n",
      "4311/4311 [==============================] - 1s 229us/step - loss: 0.3384 - accuracy: 0.8638 - val_loss: 0.3542 - val_accuracy: 0.8559\n",
      "Epoch 42/100\n",
      "4311/4311 [==============================] - 1s 279us/step - loss: 0.3383 - accuracy: 0.8650 - val_loss: 0.3533 - val_accuracy: 0.8592\n",
      "Epoch 43/100\n",
      "4311/4311 [==============================] - 1s 276us/step - loss: 0.3380 - accuracy: 0.8615 - val_loss: 0.3552 - val_accuracy: 0.8540\n",
      "Epoch 44/100\n",
      "4311/4311 [==============================] - 1s 231us/step - loss: 0.3372 - accuracy: 0.8615 - val_loss: 0.3536 - val_accuracy: 0.8555\n",
      "Epoch 45/100\n",
      "4311/4311 [==============================] - 1s 204us/step - loss: 0.3369 - accuracy: 0.8631 - val_loss: 0.3529 - val_accuracy: 0.8559\n",
      "Epoch 46/100\n",
      "4311/4311 [==============================] - 1s 200us/step - loss: 0.3366 - accuracy: 0.8627 - val_loss: 0.3536 - val_accuracy: 0.8555\n",
      "Epoch 47/100\n",
      "4311/4311 [==============================] - 1s 206us/step - loss: 0.3363 - accuracy: 0.8631 - val_loss: 0.3541 - val_accuracy: 0.8573\n",
      "Epoch 48/100\n",
      "4311/4311 [==============================] - 1s 203us/step - loss: 0.3349 - accuracy: 0.8631 - val_loss: 0.3545 - val_accuracy: 0.8545\n",
      "Epoch 49/100\n",
      "4311/4311 [==============================] - 1s 199us/step - loss: 0.3361 - accuracy: 0.8638 - val_loss: 0.3539 - val_accuracy: 0.8569\n",
      "Epoch 50/100\n",
      "4311/4311 [==============================] - 1s 211us/step - loss: 0.3350 - accuracy: 0.8608 - val_loss: 0.3531 - val_accuracy: 0.8573\n",
      "Epoch 51/100\n",
      "4311/4311 [==============================] - 1s 201us/step - loss: 0.3344 - accuracy: 0.8634 - val_loss: 0.3534 - val_accuracy: 0.8559\n",
      "Epoch 52/100\n",
      "4311/4311 [==============================] - 1s 201us/step - loss: 0.3348 - accuracy: 0.8629 - val_loss: 0.3530 - val_accuracy: 0.8569\n",
      "Epoch 53/100\n",
      "4311/4311 [==============================] - 1s 199us/step - loss: 0.3343 - accuracy: 0.8631 - val_loss: 0.3538 - val_accuracy: 0.8588\n",
      "Epoch 54/100\n",
      "4311/4311 [==============================] - 1s 204us/step - loss: 0.3350 - accuracy: 0.8622 - val_loss: 0.3541 - val_accuracy: 0.8526\n",
      "Epoch 55/100\n",
      "4311/4311 [==============================] - 1s 211us/step - loss: 0.3342 - accuracy: 0.8608 - val_loss: 0.3537 - val_accuracy: 0.8578\n",
      "Epoch 56/100\n",
      "4311/4311 [==============================] - 1s 204us/step - loss: 0.3343 - accuracy: 0.8613 - val_loss: 0.3541 - val_accuracy: 0.8564\n",
      "Epoch 57/100\n",
      "4311/4311 [==============================] - 1s 196us/step - loss: 0.3342 - accuracy: 0.8620 - val_loss: 0.3529 - val_accuracy: 0.8564\n",
      "Epoch 58/100\n",
      "4311/4311 [==============================] - 1s 196us/step - loss: 0.3337 - accuracy: 0.8629 - val_loss: 0.3523 - val_accuracy: 0.8573\n",
      "Epoch 59/100\n",
      "4311/4311 [==============================] - 1s 239us/step - loss: 0.3338 - accuracy: 0.8636 - val_loss: 0.3531 - val_accuracy: 0.8550\n",
      "Epoch 60/100\n",
      "4311/4311 [==============================] - 1s 236us/step - loss: 0.3336 - accuracy: 0.8617 - val_loss: 0.3539 - val_accuracy: 0.8569\n",
      "Epoch 61/100\n",
      "4311/4311 [==============================] - 1s 200us/step - loss: 0.3331 - accuracy: 0.8631 - val_loss: 0.3564 - val_accuracy: 0.8545\n",
      "Epoch 62/100\n",
      "4311/4311 [==============================] - 1s 209us/step - loss: 0.3345 - accuracy: 0.8648 - val_loss: 0.3549 - val_accuracy: 0.8545\n",
      "Epoch 63/100\n",
      "4311/4311 [==============================] - 1s 199us/step - loss: 0.3333 - accuracy: 0.8648 - val_loss: 0.3549 - val_accuracy: 0.8545\n",
      "Epoch 64/100\n",
      "4311/4311 [==============================] - 1s 222us/step - loss: 0.3335 - accuracy: 0.8655 - val_loss: 0.3541 - val_accuracy: 0.8555\n",
      "Epoch 65/100\n",
      "4311/4311 [==============================] - 1s 213us/step - loss: 0.3334 - accuracy: 0.8629 - val_loss: 0.3534 - val_accuracy: 0.8569\n",
      "Epoch 66/100\n",
      "4311/4311 [==============================] - 1s 196us/step - loss: 0.3332 - accuracy: 0.8627 - val_loss: 0.3537 - val_accuracy: 0.8559\n",
      "Epoch 67/100\n",
      "4311/4311 [==============================] - 1s 200us/step - loss: 0.3330 - accuracy: 0.8629 - val_loss: 0.3538 - val_accuracy: 0.8545\n",
      "Epoch 68/100\n",
      "4311/4311 [==============================] - 1s 211us/step - loss: 0.3331 - accuracy: 0.8627 - val_loss: 0.3543 - val_accuracy: 0.8550\n",
      "Epoch 69/100\n",
      "4311/4311 [==============================] - 1s 200us/step - loss: 0.3329 - accuracy: 0.8631 - val_loss: 0.3543 - val_accuracy: 0.8559\n",
      "Epoch 70/100\n",
      "4311/4311 [==============================] - 1s 205us/step - loss: 0.3328 - accuracy: 0.8631 - val_loss: 0.3558 - val_accuracy: 0.8540\n",
      "Epoch 71/100\n",
      "4311/4311 [==============================] - 1s 211us/step - loss: 0.3328 - accuracy: 0.8624 - val_loss: 0.3551 - val_accuracy: 0.8555\n",
      "Epoch 72/100\n",
      "4311/4311 [==============================] - 1s 212us/step - loss: 0.3329 - accuracy: 0.8638 - val_loss: 0.3546 - val_accuracy: 0.8569\n",
      "Epoch 73/100\n",
      "4311/4311 [==============================] - 1s 208us/step - loss: 0.3323 - accuracy: 0.8601 - val_loss: 0.3554 - val_accuracy: 0.8555\n",
      "Epoch 74/100\n",
      "4311/4311 [==============================] - 1s 225us/step - loss: 0.3324 - accuracy: 0.8629 - val_loss: 0.3573 - val_accuracy: 0.8550\n",
      "Epoch 75/100\n",
      "4311/4311 [==============================] - 1s 210us/step - loss: 0.3326 - accuracy: 0.8631 - val_loss: 0.3545 - val_accuracy: 0.8583\n",
      "Epoch 76/100\n",
      "4311/4311 [==============================] - 1s 237us/step - loss: 0.3327 - accuracy: 0.8643 - val_loss: 0.3577 - val_accuracy: 0.8559\n",
      "Epoch 77/100\n",
      "4311/4311 [==============================] - 1s 217us/step - loss: 0.3324 - accuracy: 0.8620 - val_loss: 0.3562 - val_accuracy: 0.8531\n",
      "Epoch 78/100\n",
      "4311/4311 [==============================] - 1s 250us/step - loss: 0.3329 - accuracy: 0.8631 - val_loss: 0.3553 - val_accuracy: 0.8555\n",
      "Epoch 79/100\n",
      "4311/4311 [==============================] - 1s 182us/step - loss: 0.3328 - accuracy: 0.8631 - val_loss: 0.3556 - val_accuracy: 0.8564\n",
      "Epoch 80/100\n",
      "4311/4311 [==============================] - 1s 186us/step - loss: 0.3327 - accuracy: 0.8622 - val_loss: 0.3561 - val_accuracy: 0.8545\n",
      "Epoch 81/100\n",
      "4311/4311 [==============================] - 1s 193us/step - loss: 0.3324 - accuracy: 0.8645 - val_loss: 0.3554 - val_accuracy: 0.8569\n",
      "Epoch 82/100\n",
      "4311/4311 [==============================] - 1s 188us/step - loss: 0.3315 - accuracy: 0.8636 - val_loss: 0.3553 - val_accuracy: 0.8578\n",
      "Epoch 83/100\n",
      "4311/4311 [==============================] - 1s 172us/step - loss: 0.3320 - accuracy: 0.8638 - val_loss: 0.3550 - val_accuracy: 0.8573\n",
      "Epoch 84/100\n",
      "4311/4311 [==============================] - 1s 181us/step - loss: 0.3318 - accuracy: 0.8620 - val_loss: 0.3565 - val_accuracy: 0.8522\n",
      "Epoch 85/100\n",
      "4311/4311 [==============================] - 1s 194us/step - loss: 0.3320 - accuracy: 0.8645 - val_loss: 0.3552 - val_accuracy: 0.8578\n",
      "Epoch 86/100\n",
      "4311/4311 [==============================] - 1s 194us/step - loss: 0.3319 - accuracy: 0.8643 - val_loss: 0.3568 - val_accuracy: 0.8550\n",
      "Epoch 87/100\n",
      "4311/4311 [==============================] - 1s 177us/step - loss: 0.3316 - accuracy: 0.8634 - val_loss: 0.3552 - val_accuracy: 0.8559\n",
      "Epoch 88/100\n",
      "4311/4311 [==============================] - 1s 183us/step - loss: 0.3323 - accuracy: 0.8638 - val_loss: 0.3554 - val_accuracy: 0.8569\n",
      "Epoch 89/100\n",
      "4311/4311 [==============================] - 1s 177us/step - loss: 0.3312 - accuracy: 0.8645 - val_loss: 0.3554 - val_accuracy: 0.8555\n",
      "Epoch 90/100\n",
      "4311/4311 [==============================] - 1s 179us/step - loss: 0.3320 - accuracy: 0.8645 - val_loss: 0.3563 - val_accuracy: 0.8545\n",
      "Epoch 91/100\n",
      "4311/4311 [==============================] - 1s 178us/step - loss: 0.3318 - accuracy: 0.8627 - val_loss: 0.3584 - val_accuracy: 0.8555\n",
      "Epoch 92/100\n",
      "4311/4311 [==============================] - 1s 168us/step - loss: 0.3320 - accuracy: 0.8645 - val_loss: 0.3549 - val_accuracy: 0.8569\n",
      "Epoch 93/100\n",
      "4311/4311 [==============================] - 1s 177us/step - loss: 0.3320 - accuracy: 0.8643 - val_loss: 0.3552 - val_accuracy: 0.8559\n",
      "Epoch 94/100\n",
      "4311/4311 [==============================] - 1s 171us/step - loss: 0.3313 - accuracy: 0.8617 - val_loss: 0.3557 - val_accuracy: 0.8564\n",
      "Epoch 95/100\n",
      "4311/4311 [==============================] - 1s 174us/step - loss: 0.3318 - accuracy: 0.8636 - val_loss: 0.3555 - val_accuracy: 0.8559\n",
      "Epoch 96/100\n",
      "4311/4311 [==============================] - 1s 169us/step - loss: 0.3313 - accuracy: 0.8629 - val_loss: 0.3549 - val_accuracy: 0.8550\n",
      "Epoch 97/100\n",
      "4311/4311 [==============================] - 1s 190us/step - loss: 0.3318 - accuracy: 0.8627 - val_loss: 0.3558 - val_accuracy: 0.8536\n",
      "Epoch 98/100\n",
      "4311/4311 [==============================] - 1s 176us/step - loss: 0.3314 - accuracy: 0.8655 - val_loss: 0.3546 - val_accuracy: 0.8555\n",
      "Epoch 99/100\n",
      "4311/4311 [==============================] - 1s 179us/step - loss: 0.3317 - accuracy: 0.8617 - val_loss: 0.3575 - val_accuracy: 0.8536\n",
      "Epoch 100/100\n",
      "4311/4311 [==============================] - 1s 183us/step - loss: 0.3313 - accuracy: 0.8643 - val_loss: 0.3559 - val_accuracy: 0.8573\n"
     ]
    }
   ],
   "source": [
    "model_history = classifier.fit(X_train,y_train, validation_split=0.33, batch_size=10,epochs=100)"
   ]
  },
  {
   "cell_type": "code",
   "execution_count": 44,
   "metadata": {},
   "outputs": [
    {
     "name": "stdout",
     "output_type": "stream",
     "text": [
      "dict_keys(['val_loss', 'val_accuracy', 'loss', 'accuracy'])\n"
     ]
    }
   ],
   "source": [
    "print(model_history.history.keys())"
   ]
  },
  {
   "cell_type": "code",
   "execution_count": 47,
   "metadata": {},
   "outputs": [
    {
     "data": {
      "image/png": "[encoded data removed]",
      "text/plain": [
       "<Figure size 432x288 with 1 Axes>"
      ]
     },
     "metadata": {
      "needs_background": "light"
     },
     "output_type": "display_data"
    }
   ],
   "source": [
    "plt.plot(model_history.history['accuracy'])\n",
    "plt.plot(model_history.history['val_accuracy'])\n",
    "plt.title('Model Accuracy')\n",
    "plt.ylabel('Accuracy')\n",
    "plt.xlabel('epoch')\n",
    "plt.legend(['train', 'test'], loc='upper left')\n",
    "plt.show()"
   ]
  },
  {
   "cell_type": "markdown",
   "metadata": {},
   "source": [
    "History of Loss."
   ]
  },
  {
   "cell_type": "code",
   "execution_count": 51,
   "metadata": {},
   "outputs": [
    {
     "data": {
      "text/plain": [
       "<matplotlib.legend.Legend at 0x1e56360fd88>"
      ]
     },
     "execution_count": 51,
     "metadata": {},
     "output_type": "execute_result"
    },
    {
     "data": {
      "image/png": "[encoded data removed]",
      "text/plain": [
       "<Figure size 432x288 with 1 Axes>"
      ]
     },
     "metadata": {
      "needs_background": "light"
     },
     "output_type": "display_data"
    }
   ],
   "source": [
    "plt.plot(model_history.history['loss'])\n",
    "plt.plot(model_history.history['val_loss'])\n",
    "plt.xlabel('epoch')\n",
    "plt.ylabel('Loss')\n",
    "plt.title('Model Loss')\n",
    "plt.legend(['train','test'], loc='upper right')"
   ]
  },
  {
   "cell_type": "markdown",
   "metadata": {},
   "source": [
    "Part 3 - Making predictions and evalating the model."
   ]
  },
  {
   "cell_type": "code",
   "execution_count": 52,
   "metadata": {},
   "outputs": [],
   "source": [
    "y_pred = classifier.predict(X_test)"
   ]
  },
  {
   "cell_type": "code",
   "execution_count": 54,
   "metadata": {},
   "outputs": [],
   "source": [
    "y_pred = (y_pred > 0.5)"
   ]
  },
  {
   "cell_type": "markdown",
   "metadata": {},
   "source": [
    "Building confusion matrix."
   ]
  },
  {
   "cell_type": "code",
   "execution_count": 57,
   "metadata": {},
   "outputs": [],
   "source": [
    "from sklearn.metrics import confusion_matrix"
   ]
  },
  {
   "cell_type": "code",
   "execution_count": 58,
   "metadata": {},
   "outputs": [],
   "source": [
    "cm = confusion_matrix(y_pred, y_test)"
   ]
  },
  {
   "cell_type": "code",
   "execution_count": 59,
   "metadata": {},
   "outputs": [
    {
     "data": {
      "text/plain": [
       "array([[1227,  161],\n",
       "       [  73,  148]], dtype=int64)"
      ]
     },
     "execution_count": 59,
     "metadata": {},
     "output_type": "execute_result"
    }
   ],
   "source": [
    "cm"
   ]
  },
  {
   "cell_type": "markdown",
   "metadata": {},
   "source": [
    "Calulating the accuracy."
   ]
  },
  {
   "cell_type": "code",
   "execution_count": 60,
   "metadata": {},
   "outputs": [],
   "source": [
    "from sklearn.metrics import accuracy_score\n",
    "score = accuracy_score(y_pred, y_test)"
   ]
  },
  {
   "cell_type": "code",
   "execution_count": 61,
   "metadata": {},
   "outputs": [
    {
     "data": {
      "text/plain": [
       "0.8545680546923555"
      ]
     },
     "execution_count": 61,
     "metadata": {},
     "output_type": "execute_result"
    }
   ],
   "source": [
    "score"
   ]
  },
  {
   "cell_type": "code",
   "execution_count": null,
   "metadata": {},
   "outputs": [],
   "source": []
  },
  {
   "cell_type": "code",
   "execution_count": null,
   "metadata": {},
   "outputs": [],
   "source": []
  }
 ],
 "metadata": {
  "kernelspec": {
   "display_name": "Python 3",
   "language": "python",
   "name": "python3"
  },
  "language_info": {
   "codemirror_mode": {
    "name": "ipython",
    "version": 3
   },
   "file_extension": ".py",
   "mimetype": "text/x-python",
   "name": "python",
   "nbconvert_exporter": "python",
   "pygments_lexer": "ipython3",
   "version": "3.7.4"
  }
 },
 "nbformat": 4,
 "nbformat_minor": 2
}
